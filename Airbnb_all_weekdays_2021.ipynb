{
 "cells": [
  {
   "cell_type": "code",
   "execution_count": 3,
   "metadata": {},
   "outputs": [],
   "source": [
    "import pandas as pd\n",
    "import numpy as np\n",
    "import seaborn as sns\n",
    "import matplotlib.pyplot as plt"
   ]
  },
  {
   "cell_type": "markdown",
   "metadata": {},
   "source": [
    "# load multiple csv's, add a new column to each csv to distinguish the corresponding cities in the final combined csv and then combine csv's into one"
   ]
  },
  {
   "cell_type": "code",
   "execution_count": 4,
   "metadata": {},
   "outputs": [],
   "source": [
    "#load csvs \n",
    "city1_data = pd.read_csv('amsterdam_weekdays.csv')\n",
    "city2_data = pd.read_csv('athens_weekdays.csv')\n",
    "city3_data = pd.read_csv('barcelona_weekdays.csv')\n",
    "city4_data = pd.read_csv('berlin_weekdays.csv')\n",
    "city5_data = pd.read_csv('budapest_weekdays.csv')\n",
    "city6_data = pd.read_csv('lisbon_weekdays.csv')\n",
    "city7_data = pd.read_csv('london_weekdays.csv')\n",
    "city8_data = pd.read_csv('paris_weekdays.csv')\n",
    "city9_data = pd.read_csv('rome_weekdays.csv')\n",
    "city10_data = pd.read_csv('vienna_weekdays.csv')\n",
    "\n",
    "#Add in new city column to each csv with corresponding city names\n",
    "city1_data = city1_data.assign(city='amsterdam')\n",
    "city2_data = city2_data.assign(city='athens')\n",
    "city3_data = city3_data.assign(city='barcelona')\n",
    "city4_data = city4_data.assign(city='berlin')\n",
    "city5_data = city5_data.assign(city='budapest')\n",
    "city6_data = city6_data.assign(city='lisbon')\n",
    "city7_data = city7_data.assign(city='london')\n",
    "city8_data = city8_data.assign(city='paris')\n",
    "city9_data = city9_data.assign(city='rome')\n",
    "city10_data = city10_data.assign(city='vienna')\n",
    "\n",
    "#combine all files into one csv\n",
    "allcity_data = pd.concat([city1_data, city2_data, city3_data, city4_data, city5_data, city6_data, city7_data, city8_data, city9_data, city10_data], ignore_index=True)\n",
    "\n",
    "allcity_data.drop(['attr_index', 'attr_index_norm', 'rest_index', 'rest_index_norm', 'lng', 'lat'], axis=1, inplace=True)\n",
    "\n",
    "#save new csv called allcity.csv\n",
    "allcity_data.to_csv('allcity.csv')\n"
   ]
  },
  {
   "cell_type": "code",
   "execution_count": 5,
   "metadata": {},
   "outputs": [],
   "source": [
    "#read new csv\n",
    "allcity_data = pd.read_csv('allcity.csv')"
   ]
  },
  {
   "cell_type": "code",
   "execution_count": 6,
   "metadata": {},
   "outputs": [],
   "source": [
    "# drop unnecessary columns\n",
    "#allcity_data.drop(['Unnamed: 0.1', 'Unnamed: 0','attr_index', 'attr_index_norm', 'rest_index', 'rest_index_norm', 'lng', 'lat'], axis=1, inplace=True)"
   ]
  },
  {
   "cell_type": "code",
   "execution_count": 7,
   "metadata": {},
   "outputs": [],
   "source": [
    "# reorder csv to have the city column at the beginning\n",
    "allcity_data = allcity_data[['city', 'realSum', 'room_type', 'room_shared','room_private', 'person_capacity', 'host_is_superhost', 'multi', 'biz', 'cleanliness_rating', 'guest_satisfaction_overall', 'bedrooms', 'dist', 'metro_dist']]"
   ]
  },
  {
   "cell_type": "code",
   "execution_count": 48,
   "metadata": {},
   "outputs": [
    {
     "data": {
      "text/html": [
       "<div>\n",
       "<style scoped>\n",
       "    .dataframe tbody tr th:only-of-type {\n",
       "        vertical-align: middle;\n",
       "    }\n",
       "\n",
       "    .dataframe tbody tr th {\n",
       "        vertical-align: top;\n",
       "    }\n",
       "\n",
       "    .dataframe thead th {\n",
       "        text-align: right;\n",
       "    }\n",
       "</style>\n",
       "<table border=\"1\" class=\"dataframe\">\n",
       "  <thead>\n",
       "    <tr style=\"text-align: right;\">\n",
       "      <th></th>\n",
       "      <th>city</th>\n",
       "      <th>realSum</th>\n",
       "      <th>room_type</th>\n",
       "      <th>room_shared</th>\n",
       "      <th>room_private</th>\n",
       "      <th>person_capacity</th>\n",
       "      <th>host_is_superhost</th>\n",
       "      <th>multi</th>\n",
       "      <th>biz</th>\n",
       "      <th>cleanliness_rating</th>\n",
       "      <th>guest_satisfaction_overall</th>\n",
       "      <th>bedrooms</th>\n",
       "      <th>dist</th>\n",
       "      <th>metro_dist</th>\n",
       "    </tr>\n",
       "  </thead>\n",
       "  <tbody>\n",
       "    <tr>\n",
       "      <th>0</th>\n",
       "      <td>amsterdam</td>\n",
       "      <td>194.033698</td>\n",
       "      <td>Private room</td>\n",
       "      <td>False</td>\n",
       "      <td>True</td>\n",
       "      <td>2.0</td>\n",
       "      <td>False</td>\n",
       "      <td>1</td>\n",
       "      <td>0</td>\n",
       "      <td>10.0</td>\n",
       "      <td>93.0</td>\n",
       "      <td>1</td>\n",
       "      <td>5.022964</td>\n",
       "      <td>2.539380</td>\n",
       "    </tr>\n",
       "    <tr>\n",
       "      <th>1</th>\n",
       "      <td>amsterdam</td>\n",
       "      <td>344.245776</td>\n",
       "      <td>Private room</td>\n",
       "      <td>False</td>\n",
       "      <td>True</td>\n",
       "      <td>4.0</td>\n",
       "      <td>False</td>\n",
       "      <td>0</td>\n",
       "      <td>0</td>\n",
       "      <td>8.0</td>\n",
       "      <td>85.0</td>\n",
       "      <td>1</td>\n",
       "      <td>0.488389</td>\n",
       "      <td>0.239404</td>\n",
       "    </tr>\n",
       "    <tr>\n",
       "      <th>2</th>\n",
       "      <td>amsterdam</td>\n",
       "      <td>264.101422</td>\n",
       "      <td>Private room</td>\n",
       "      <td>False</td>\n",
       "      <td>True</td>\n",
       "      <td>2.0</td>\n",
       "      <td>False</td>\n",
       "      <td>0</td>\n",
       "      <td>1</td>\n",
       "      <td>9.0</td>\n",
       "      <td>87.0</td>\n",
       "      <td>1</td>\n",
       "      <td>5.748312</td>\n",
       "      <td>3.651621</td>\n",
       "    </tr>\n",
       "    <tr>\n",
       "      <th>3</th>\n",
       "      <td>amsterdam</td>\n",
       "      <td>433.529398</td>\n",
       "      <td>Private room</td>\n",
       "      <td>False</td>\n",
       "      <td>True</td>\n",
       "      <td>4.0</td>\n",
       "      <td>False</td>\n",
       "      <td>0</td>\n",
       "      <td>1</td>\n",
       "      <td>9.0</td>\n",
       "      <td>90.0</td>\n",
       "      <td>2</td>\n",
       "      <td>0.384862</td>\n",
       "      <td>0.439876</td>\n",
       "    </tr>\n",
       "    <tr>\n",
       "      <th>4</th>\n",
       "      <td>amsterdam</td>\n",
       "      <td>485.552926</td>\n",
       "      <td>Private room</td>\n",
       "      <td>False</td>\n",
       "      <td>True</td>\n",
       "      <td>2.0</td>\n",
       "      <td>True</td>\n",
       "      <td>0</td>\n",
       "      <td>0</td>\n",
       "      <td>10.0</td>\n",
       "      <td>98.0</td>\n",
       "      <td>1</td>\n",
       "      <td>0.544738</td>\n",
       "      <td>0.318693</td>\n",
       "    </tr>\n",
       "  </tbody>\n",
       "</table>\n",
       "</div>"
      ],
      "text/plain": [
       "        city     realSum     room_type  room_shared  room_private  \\\n",
       "0  amsterdam  194.033698  Private room        False          True   \n",
       "1  amsterdam  344.245776  Private room        False          True   \n",
       "2  amsterdam  264.101422  Private room        False          True   \n",
       "3  amsterdam  433.529398  Private room        False          True   \n",
       "4  amsterdam  485.552926  Private room        False          True   \n",
       "\n",
       "   person_capacity  host_is_superhost  multi  biz  cleanliness_rating  \\\n",
       "0              2.0              False      1    0                10.0   \n",
       "1              4.0              False      0    0                 8.0   \n",
       "2              2.0              False      0    1                 9.0   \n",
       "3              4.0              False      0    1                 9.0   \n",
       "4              2.0               True      0    0                10.0   \n",
       "\n",
       "   guest_satisfaction_overall  bedrooms      dist  metro_dist  \n",
       "0                        93.0         1  5.022964    2.539380  \n",
       "1                        85.0         1  0.488389    0.239404  \n",
       "2                        87.0         1  5.748312    3.651621  \n",
       "3                        90.0         2  0.384862    0.439876  \n",
       "4                        98.0         1  0.544738    0.318693  "
      ]
     },
     "execution_count": 48,
     "metadata": {},
     "output_type": "execute_result"
    }
   ],
   "source": [
    "allcity_data.head()\n",
    "            "
   ]
  },
  {
   "cell_type": "code",
   "execution_count": 35,
   "metadata": {},
   "outputs": [
    {
     "name": "stdout",
     "output_type": "stream",
     "text": [
      "<class 'pandas.core.frame.DataFrame'>\n",
      "RangeIndex: 25500 entries, 0 to 25499\n",
      "Data columns (total 14 columns):\n",
      " #   Column                      Non-Null Count  Dtype  \n",
      "---  ------                      --------------  -----  \n",
      " 0   city                        25500 non-null  object \n",
      " 1   realSum                     25500 non-null  float64\n",
      " 2   room_type                   25500 non-null  object \n",
      " 3   room_shared                 25500 non-null  bool   \n",
      " 4   room_private                25500 non-null  bool   \n",
      " 5   person_capacity             25500 non-null  float64\n",
      " 6   host_is_superhost           25500 non-null  bool   \n",
      " 7   multi                       25500 non-null  int64  \n",
      " 8   biz                         25500 non-null  int64  \n",
      " 9   cleanliness_rating          25500 non-null  float64\n",
      " 10  guest_satisfaction_overall  25500 non-null  float64\n",
      " 11  bedrooms                    25500 non-null  int64  \n",
      " 12  dist                        25500 non-null  float64\n",
      " 13  metro_dist                  25500 non-null  float64\n",
      "dtypes: bool(3), float64(6), int64(3), object(2)\n",
      "memory usage: 2.2+ MB\n"
     ]
    }
   ],
   "source": [
    "allcity_data.info()"
   ]
  },
  {
   "cell_type": "code",
   "execution_count": 9,
   "metadata": {},
   "outputs": [
    {
     "data": {
      "text/plain": [
       "london       4614\n",
       "rome         4492\n",
       "paris        3130\n",
       "lisbon       2857\n",
       "athens       2653\n",
       "budapest     2074\n",
       "vienna       1738\n",
       "barcelona    1555\n",
       "berlin       1284\n",
       "amsterdam    1103\n",
       "Name: city, dtype: int64"
      ]
     },
     "execution_count": 9,
     "metadata": {},
     "output_type": "execute_result"
    }
   ],
   "source": [
    "allcity_data['city'].value_counts()"
   ]
  },
  {
   "cell_type": "code",
   "execution_count": 10,
   "metadata": {},
   "outputs": [
    {
     "name": "stdout",
     "output_type": "stream",
     "text": [
      "6592\n"
     ]
    }
   ],
   "source": [
    "is_superhost = allcity_data['host_is_superhost'].value_counts()[True]\n",
    "print(is_superhost)"
   ]
  },
  {
   "cell_type": "code",
   "execution_count": 11,
   "metadata": {},
   "outputs": [
    {
     "name": "stdout",
     "output_type": "stream",
     "text": [
      "18908\n"
     ]
    }
   ],
   "source": [
    "not_superhost=allcity_data['host_is_superhost'].value_counts()[False]\n",
    "print(not_superhost)"
   ]
  },
  {
   "cell_type": "code",
   "execution_count": 12,
   "metadata": {},
   "outputs": [
    {
     "name": "stdout",
     "output_type": "stream",
     "text": [
      "180\n"
     ]
    }
   ],
   "source": [
    "is_shared=allcity_data['room_shared'].value_counts()[True]\n",
    "print(is_shared)"
   ]
  },
  {
   "cell_type": "code",
   "execution_count": 22,
   "metadata": {},
   "outputs": [
    {
     "name": "stdout",
     "output_type": "stream",
     "text": [
      "25320\n"
     ]
    }
   ],
   "source": [
    "not_shared=allcity_data['room_shared'].value_counts()[False]\n",
    "print(not_shared)"
   ]
  },
  {
   "cell_type": "code",
   "execution_count": 23,
   "metadata": {},
   "outputs": [
    {
     "data": {
      "text/plain": [
       "Entire home/apt    15994\n",
       "Private room        9326\n",
       "Shared room          180\n",
       "Name: room_type, dtype: int64"
      ]
     },
     "execution_count": 23,
     "metadata": {},
     "output_type": "execute_result"
    }
   ],
   "source": [
    "allcity_data['room_type'].value_counts()"
   ]
  },
  {
   "cell_type": "code",
   "execution_count": 24,
   "metadata": {},
   "outputs": [
    {
     "name": "stdout",
     "output_type": "stream",
     "text": [
      "15994\n"
     ]
    }
   ],
   "source": [
    "room_data = allcity_data['room_type'].value_counts()['Entire home/apt']\n",
    "print(room_data)"
   ]
  },
  {
   "cell_type": "code",
   "execution_count": 25,
   "metadata": {},
   "outputs": [
    {
     "name": "stdout",
     "output_type": "stream",
     "text": [
      "9326\n"
     ]
    }
   ],
   "source": [
    "room_data = allcity_data['room_type'].value_counts()['Private room']\n",
    "print(room_data)"
   ]
  },
  {
   "cell_type": "code",
   "execution_count": 26,
   "metadata": {},
   "outputs": [
    {
     "name": "stdout",
     "output_type": "stream",
     "text": [
      "1     17808\n",
      "2      4634\n",
      "0      2208\n",
      "3       791\n",
      "4        47\n",
      "9         5\n",
      "5         4\n",
      "6         1\n",
      "10        1\n",
      "8         1\n",
      "Name: bedrooms, dtype: int64\n"
     ]
    }
   ],
   "source": [
    "room_data = allcity_data['bedrooms'].value_counts()\n",
    "print(room_data)"
   ]
  },
  {
   "cell_type": "code",
   "execution_count": 41,
   "metadata": {},
   "outputs": [
    {
     "data": {
      "text/html": [
       "<div>\n",
       "<style scoped>\n",
       "    .dataframe tbody tr th:only-of-type {\n",
       "        vertical-align: middle;\n",
       "    }\n",
       "\n",
       "    .dataframe tbody tr th {\n",
       "        vertical-align: top;\n",
       "    }\n",
       "\n",
       "    .dataframe thead th {\n",
       "        text-align: right;\n",
       "    }\n",
       "</style>\n",
       "<table border=\"1\" class=\"dataframe\">\n",
       "  <thead>\n",
       "    <tr style=\"text-align: right;\">\n",
       "      <th></th>\n",
       "      <th>city</th>\n",
       "      <th>realSum</th>\n",
       "      <th>room_type</th>\n",
       "      <th>room_shared</th>\n",
       "      <th>room_private</th>\n",
       "      <th>person_capacity</th>\n",
       "      <th>host_is_superhost</th>\n",
       "      <th>multi</th>\n",
       "      <th>biz</th>\n",
       "      <th>cleanliness_rating</th>\n",
       "      <th>guest_satisfaction_overall</th>\n",
       "      <th>bedrooms</th>\n",
       "      <th>dist</th>\n",
       "      <th>metro_dist</th>\n",
       "    </tr>\n",
       "  </thead>\n",
       "  <tbody>\n",
       "    <tr>\n",
       "      <th>0</th>\n",
       "      <td>amsterdam</td>\n",
       "      <td>194.033698</td>\n",
       "      <td>Private room</td>\n",
       "      <td>False</td>\n",
       "      <td>True</td>\n",
       "      <td>2.0</td>\n",
       "      <td>False</td>\n",
       "      <td>1</td>\n",
       "      <td>0</td>\n",
       "      <td>10.0</td>\n",
       "      <td>93.0</td>\n",
       "      <td>1</td>\n",
       "      <td>5.022964</td>\n",
       "      <td>2.539380</td>\n",
       "    </tr>\n",
       "    <tr>\n",
       "      <th>1</th>\n",
       "      <td>amsterdam</td>\n",
       "      <td>344.245776</td>\n",
       "      <td>Private room</td>\n",
       "      <td>False</td>\n",
       "      <td>True</td>\n",
       "      <td>4.0</td>\n",
       "      <td>False</td>\n",
       "      <td>0</td>\n",
       "      <td>0</td>\n",
       "      <td>8.0</td>\n",
       "      <td>85.0</td>\n",
       "      <td>1</td>\n",
       "      <td>0.488389</td>\n",
       "      <td>0.239404</td>\n",
       "    </tr>\n",
       "    <tr>\n",
       "      <th>2</th>\n",
       "      <td>amsterdam</td>\n",
       "      <td>264.101422</td>\n",
       "      <td>Private room</td>\n",
       "      <td>False</td>\n",
       "      <td>True</td>\n",
       "      <td>2.0</td>\n",
       "      <td>False</td>\n",
       "      <td>0</td>\n",
       "      <td>1</td>\n",
       "      <td>9.0</td>\n",
       "      <td>87.0</td>\n",
       "      <td>1</td>\n",
       "      <td>5.748312</td>\n",
       "      <td>3.651621</td>\n",
       "    </tr>\n",
       "    <tr>\n",
       "      <th>3</th>\n",
       "      <td>amsterdam</td>\n",
       "      <td>433.529398</td>\n",
       "      <td>Private room</td>\n",
       "      <td>False</td>\n",
       "      <td>True</td>\n",
       "      <td>4.0</td>\n",
       "      <td>False</td>\n",
       "      <td>0</td>\n",
       "      <td>1</td>\n",
       "      <td>9.0</td>\n",
       "      <td>90.0</td>\n",
       "      <td>2</td>\n",
       "      <td>0.384862</td>\n",
       "      <td>0.439876</td>\n",
       "    </tr>\n",
       "    <tr>\n",
       "      <th>4</th>\n",
       "      <td>amsterdam</td>\n",
       "      <td>485.552926</td>\n",
       "      <td>Private room</td>\n",
       "      <td>False</td>\n",
       "      <td>True</td>\n",
       "      <td>2.0</td>\n",
       "      <td>True</td>\n",
       "      <td>0</td>\n",
       "      <td>0</td>\n",
       "      <td>10.0</td>\n",
       "      <td>98.0</td>\n",
       "      <td>1</td>\n",
       "      <td>0.544738</td>\n",
       "      <td>0.318693</td>\n",
       "    </tr>\n",
       "  </tbody>\n",
       "</table>\n",
       "</div>"
      ],
      "text/plain": [
       "        city     realSum     room_type  room_shared  room_private  \\\n",
       "0  amsterdam  194.033698  Private room        False          True   \n",
       "1  amsterdam  344.245776  Private room        False          True   \n",
       "2  amsterdam  264.101422  Private room        False          True   \n",
       "3  amsterdam  433.529398  Private room        False          True   \n",
       "4  amsterdam  485.552926  Private room        False          True   \n",
       "\n",
       "   person_capacity  host_is_superhost  multi  biz  cleanliness_rating  \\\n",
       "0              2.0              False      1    0                10.0   \n",
       "1              4.0              False      0    0                 8.0   \n",
       "2              2.0              False      0    1                 9.0   \n",
       "3              4.0              False      0    1                 9.0   \n",
       "4              2.0               True      0    0                10.0   \n",
       "\n",
       "   guest_satisfaction_overall  bedrooms      dist  metro_dist  \n",
       "0                        93.0         1  5.022964    2.539380  \n",
       "1                        85.0         1  0.488389    0.239404  \n",
       "2                        87.0         1  5.748312    3.651621  \n",
       "3                        90.0         2  0.384862    0.439876  \n",
       "4                        98.0         1  0.544738    0.318693  "
      ]
     },
     "execution_count": 41,
     "metadata": {},
     "output_type": "execute_result"
    }
   ],
   "source": [
    "allcity_data.head()"
   ]
  },
  {
   "cell_type": "code",
   "execution_count": 50,
   "metadata": {},
   "outputs": [
    {
     "data": {
      "text/plain": [
       "545.0205264394508"
      ]
     },
     "execution_count": 50,
     "metadata": {},
     "output_type": "execute_result"
    }
   ],
   "source": [
    "#price_count = allcity_data[(allcity_data['realSum'] == \"amsterdam\")].mean()\n",
    "price_count = allcity_data[allcity_data['city'] == \"amsterdam\"]['realSum'].mean()\n",
    "price_count"
   ]
  },
  {
   "cell_type": "code",
   "execution_count": null,
   "metadata": {},
   "outputs": [],
   "source": []
  }
 ],
 "metadata": {
  "kernelspec": {
   "display_name": "Python 3 (ipykernel)",
   "language": "python",
   "name": "python3"
  },
  "language_info": {
   "codemirror_mode": {
    "name": "ipython",
    "version": 3
   },
   "file_extension": ".py",
   "mimetype": "text/x-python",
   "name": "python",
   "nbconvert_exporter": "python",
   "pygments_lexer": "ipython3",
   "version": "3.10.9"
  }
 },
 "nbformat": 4,
 "nbformat_minor": 2
}
