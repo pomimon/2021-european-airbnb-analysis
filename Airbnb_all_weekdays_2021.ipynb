{
 "cells": [
  {
   "cell_type": "code",
   "execution_count": 313,
   "metadata": {},
   "outputs": [],
   "source": [
    "# import utilities\n",
    "import pandas as pd\n",
    "import numpy as np\n",
    "import matplotlib.pyplot as plt\n",
    "\n",
    "# set up global variables\n",
    "COLORS = ['#debcff', '#ffadad', '#fdffb6', '#ffa7dc', '#ffd6a5', '#96e8ff', '#caffbf', '#bdb2ff', '#a0c4ff', '#ffc6ff']"
   ]
  },
  {
   "cell_type": "markdown",
   "metadata": {},
   "source": [
    "# load multiple csv's, add a new column to each csv to distinguish the corresponding cities and then combine csv's into one"
   ]
  },
  {
   "cell_type": "code",
   "execution_count": 314,
   "metadata": {},
   "outputs": [],
   "source": [
    "# load csvs \n",
    "city1_data = pd.read_csv('amsterdam_weekdays.csv')\n",
    "city2_data = pd.read_csv('athens_weekdays.csv')\n",
    "city3_data = pd.read_csv('barcelona_weekdays.csv')\n",
    "city4_data = pd.read_csv('berlin_weekdays.csv')\n",
    "city5_data = pd.read_csv('budapest_weekdays.csv')\n",
    "city6_data = pd.read_csv('lisbon_weekdays.csv')\n",
    "city7_data = pd.read_csv('london_weekdays.csv')\n",
    "city8_data = pd.read_csv('paris_weekdays.csv')\n",
    "city9_data = pd.read_csv('rome_weekdays.csv')\n",
    "city10_data = pd.read_csv('vienna_weekdays.csv')\n",
    "\n",
    "# Add in new city column to each csv with corresponding city names\n",
    "city1_data = city1_data.assign(city='amsterdam')\n",
    "city2_data = city2_data.assign(city='athens')\n",
    "city3_data = city3_data.assign(city='barcelona')\n",
    "city4_data = city4_data.assign(city='berlin')\n",
    "city5_data = city5_data.assign(city='budapest')\n",
    "city6_data = city6_data.assign(city='lisbon')\n",
    "city7_data = city7_data.assign(city='london')\n",
    "city8_data = city8_data.assign(city='paris')\n",
    "city9_data = city9_data.assign(city='rome')\n",
    "city10_data = city10_data.assign(city='vienna')\n",
    "\n",
    "# combine all files into one csv\n",
    "allcity_data = pd.concat([city1_data, city2_data, city3_data, city4_data, city5_data, city6_data, city7_data, city8_data, city9_data, city10_data], ignore_index=True)\n",
    "\n",
    "# drop unnecessary columns\n",
    "allcity_data.drop(['attr_index', 'attr_index_norm', 'rest_index', 'rest_index_norm', 'lng', 'lat'], axis=1, inplace=True)\n",
    "\n",
    "# save new csv called allcity.csv\n",
    "allcity_data.to_csv('allcity.csv')\n"
   ]
  },
  {
   "cell_type": "code",
   "execution_count": 315,
   "metadata": {},
   "outputs": [],
   "source": [
    "#read new csv\n",
    "allcity_data = pd.read_csv('allcity.csv')"
   ]
  },
  {
   "cell_type": "code",
   "execution_count": 316,
   "metadata": {},
   "outputs": [],
   "source": [
    "# drop unnecessary columns\n",
    "#allcity_data.drop(['Unnamed: 0.1', 'Unnamed: 0','attr_index', 'attr_index_norm', 'rest_index', 'rest_index_norm', 'lng', 'lat'], axis=1, inplace=True)"
   ]
  },
  {
   "cell_type": "code",
   "execution_count": 317,
   "metadata": {},
   "outputs": [],
   "source": [
    "# reorder csv to have the city column at the beginning\n",
    "allcity_data = allcity_data[['city', 'realSum', 'room_type', 'room_shared','room_private', 'person_capacity', 'host_is_superhost', 'multi', 'biz', 'cleanliness_rating', 'guest_satisfaction_overall', 'bedrooms', 'dist', 'metro_dist']]"
   ]
  },
  {
   "cell_type": "code",
   "execution_count": 318,
   "metadata": {},
   "outputs": [
    {
     "data": {
      "text/html": [
       "<div>\n",
       "<style scoped>\n",
       "    .dataframe tbody tr th:only-of-type {\n",
       "        vertical-align: middle;\n",
       "    }\n",
       "\n",
       "    .dataframe tbody tr th {\n",
       "        vertical-align: top;\n",
       "    }\n",
       "\n",
       "    .dataframe thead th {\n",
       "        text-align: right;\n",
       "    }\n",
       "</style>\n",
       "<table border=\"1\" class=\"dataframe\">\n",
       "  <thead>\n",
       "    <tr style=\"text-align: right;\">\n",
       "      <th></th>\n",
       "      <th>realSum</th>\n",
       "      <th>person_capacity</th>\n",
       "      <th>multi</th>\n",
       "      <th>biz</th>\n",
       "      <th>cleanliness_rating</th>\n",
       "      <th>guest_satisfaction_overall</th>\n",
       "      <th>bedrooms</th>\n",
       "      <th>dist</th>\n",
       "      <th>metro_dist</th>\n",
       "    </tr>\n",
       "  </thead>\n",
       "  <tbody>\n",
       "    <tr>\n",
       "      <th>count</th>\n",
       "      <td>25500.000000</td>\n",
       "      <td>25500.000000</td>\n",
       "      <td>25500.000000</td>\n",
       "      <td>25500.000000</td>\n",
       "      <td>25500.000000</td>\n",
       "      <td>25500.000000</td>\n",
       "      <td>25500.000000</td>\n",
       "      <td>25500.000000</td>\n",
       "      <td>25500.000000</td>\n",
       "    </tr>\n",
       "    <tr>\n",
       "      <th>mean</th>\n",
       "      <td>275.681904</td>\n",
       "      <td>3.175529</td>\n",
       "      <td>0.293529</td>\n",
       "      <td>0.358745</td>\n",
       "      <td>9.389176</td>\n",
       "      <td>92.586549</td>\n",
       "      <td>1.165725</td>\n",
       "      <td>3.160597</td>\n",
       "      <td>0.680994</td>\n",
       "    </tr>\n",
       "    <tr>\n",
       "      <th>std</th>\n",
       "      <td>354.279644</td>\n",
       "      <td>1.308675</td>\n",
       "      <td>0.455388</td>\n",
       "      <td>0.479642</td>\n",
       "      <td>0.954920</td>\n",
       "      <td>8.964563</td>\n",
       "      <td>0.634562</td>\n",
       "      <td>2.385645</td>\n",
       "      <td>0.849603</td>\n",
       "    </tr>\n",
       "    <tr>\n",
       "      <th>min</th>\n",
       "      <td>37.129295</td>\n",
       "      <td>2.000000</td>\n",
       "      <td>0.000000</td>\n",
       "      <td>0.000000</td>\n",
       "      <td>2.000000</td>\n",
       "      <td>20.000000</td>\n",
       "      <td>0.000000</td>\n",
       "      <td>0.015059</td>\n",
       "      <td>0.003944</td>\n",
       "    </tr>\n",
       "    <tr>\n",
       "      <th>25%</th>\n",
       "      <td>145.168856</td>\n",
       "      <td>2.000000</td>\n",
       "      <td>0.000000</td>\n",
       "      <td>0.000000</td>\n",
       "      <td>9.000000</td>\n",
       "      <td>90.000000</td>\n",
       "      <td>1.000000</td>\n",
       "      <td>1.433281</td>\n",
       "      <td>0.250707</td>\n",
       "    </tr>\n",
       "    <tr>\n",
       "      <th>50%</th>\n",
       "      <td>207.148849</td>\n",
       "      <td>3.000000</td>\n",
       "      <td>0.000000</td>\n",
       "      <td>0.000000</td>\n",
       "      <td>10.000000</td>\n",
       "      <td>95.000000</td>\n",
       "      <td>1.000000</td>\n",
       "      <td>2.591957</td>\n",
       "      <td>0.415916</td>\n",
       "    </tr>\n",
       "    <tr>\n",
       "      <th>75%</th>\n",
       "      <td>311.390202</td>\n",
       "      <td>4.000000</td>\n",
       "      <td>1.000000</td>\n",
       "      <td>1.000000</td>\n",
       "      <td>10.000000</td>\n",
       "      <td>98.000000</td>\n",
       "      <td>1.000000</td>\n",
       "      <td>4.226353</td>\n",
       "      <td>0.742088</td>\n",
       "    </tr>\n",
       "    <tr>\n",
       "      <th>max</th>\n",
       "      <td>18545.450285</td>\n",
       "      <td>6.000000</td>\n",
       "      <td>1.000000</td>\n",
       "      <td>1.000000</td>\n",
       "      <td>10.000000</td>\n",
       "      <td>100.000000</td>\n",
       "      <td>10.000000</td>\n",
       "      <td>22.617451</td>\n",
       "      <td>13.314108</td>\n",
       "    </tr>\n",
       "  </tbody>\n",
       "</table>\n",
       "</div>"
      ],
      "text/plain": [
       "            realSum  person_capacity         multi           biz  \\\n",
       "count  25500.000000     25500.000000  25500.000000  25500.000000   \n",
       "mean     275.681904         3.175529      0.293529      0.358745   \n",
       "std      354.279644         1.308675      0.455388      0.479642   \n",
       "min       37.129295         2.000000      0.000000      0.000000   \n",
       "25%      145.168856         2.000000      0.000000      0.000000   \n",
       "50%      207.148849         3.000000      0.000000      0.000000   \n",
       "75%      311.390202         4.000000      1.000000      1.000000   \n",
       "max    18545.450285         6.000000      1.000000      1.000000   \n",
       "\n",
       "       cleanliness_rating  guest_satisfaction_overall      bedrooms  \\\n",
       "count        25500.000000                25500.000000  25500.000000   \n",
       "mean             9.389176                   92.586549      1.165725   \n",
       "std              0.954920                    8.964563      0.634562   \n",
       "min              2.000000                   20.000000      0.000000   \n",
       "25%              9.000000                   90.000000      1.000000   \n",
       "50%             10.000000                   95.000000      1.000000   \n",
       "75%             10.000000                   98.000000      1.000000   \n",
       "max             10.000000                  100.000000     10.000000   \n",
       "\n",
       "               dist    metro_dist  \n",
       "count  25500.000000  25500.000000  \n",
       "mean       3.160597      0.680994  \n",
       "std        2.385645      0.849603  \n",
       "min        0.015059      0.003944  \n",
       "25%        1.433281      0.250707  \n",
       "50%        2.591957      0.415916  \n",
       "75%        4.226353      0.742088  \n",
       "max       22.617451     13.314108  "
      ]
     },
     "execution_count": 318,
     "metadata": {},
     "output_type": "execute_result"
    }
   ],
   "source": [
    "allcity_data.describe()"
   ]
  },
  {
   "cell_type": "code",
   "execution_count": 319,
   "metadata": {},
   "outputs": [
    {
     "data": {
      "text/html": [
       "<div>\n",
       "<style scoped>\n",
       "    .dataframe tbody tr th:only-of-type {\n",
       "        vertical-align: middle;\n",
       "    }\n",
       "\n",
       "    .dataframe tbody tr th {\n",
       "        vertical-align: top;\n",
       "    }\n",
       "\n",
       "    .dataframe thead th {\n",
       "        text-align: right;\n",
       "    }\n",
       "</style>\n",
       "<table border=\"1\" class=\"dataframe\">\n",
       "  <thead>\n",
       "    <tr style=\"text-align: right;\">\n",
       "      <th></th>\n",
       "      <th>city</th>\n",
       "      <th>realSum</th>\n",
       "      <th>room_type</th>\n",
       "      <th>room_shared</th>\n",
       "      <th>room_private</th>\n",
       "      <th>person_capacity</th>\n",
       "      <th>host_is_superhost</th>\n",
       "      <th>multi</th>\n",
       "      <th>biz</th>\n",
       "      <th>cleanliness_rating</th>\n",
       "      <th>guest_satisfaction_overall</th>\n",
       "      <th>bedrooms</th>\n",
       "      <th>dist</th>\n",
       "      <th>metro_dist</th>\n",
       "    </tr>\n",
       "  </thead>\n",
       "  <tbody>\n",
       "    <tr>\n",
       "      <th>0</th>\n",
       "      <td>amsterdam</td>\n",
       "      <td>194.033698</td>\n",
       "      <td>Private room</td>\n",
       "      <td>False</td>\n",
       "      <td>True</td>\n",
       "      <td>2.0</td>\n",
       "      <td>False</td>\n",
       "      <td>1</td>\n",
       "      <td>0</td>\n",
       "      <td>10.0</td>\n",
       "      <td>93.0</td>\n",
       "      <td>1</td>\n",
       "      <td>5.022964</td>\n",
       "      <td>2.539380</td>\n",
       "    </tr>\n",
       "    <tr>\n",
       "      <th>1</th>\n",
       "      <td>amsterdam</td>\n",
       "      <td>344.245776</td>\n",
       "      <td>Private room</td>\n",
       "      <td>False</td>\n",
       "      <td>True</td>\n",
       "      <td>4.0</td>\n",
       "      <td>False</td>\n",
       "      <td>0</td>\n",
       "      <td>0</td>\n",
       "      <td>8.0</td>\n",
       "      <td>85.0</td>\n",
       "      <td>1</td>\n",
       "      <td>0.488389</td>\n",
       "      <td>0.239404</td>\n",
       "    </tr>\n",
       "    <tr>\n",
       "      <th>2</th>\n",
       "      <td>amsterdam</td>\n",
       "      <td>264.101422</td>\n",
       "      <td>Private room</td>\n",
       "      <td>False</td>\n",
       "      <td>True</td>\n",
       "      <td>2.0</td>\n",
       "      <td>False</td>\n",
       "      <td>0</td>\n",
       "      <td>1</td>\n",
       "      <td>9.0</td>\n",
       "      <td>87.0</td>\n",
       "      <td>1</td>\n",
       "      <td>5.748312</td>\n",
       "      <td>3.651621</td>\n",
       "    </tr>\n",
       "    <tr>\n",
       "      <th>3</th>\n",
       "      <td>amsterdam</td>\n",
       "      <td>433.529398</td>\n",
       "      <td>Private room</td>\n",
       "      <td>False</td>\n",
       "      <td>True</td>\n",
       "      <td>4.0</td>\n",
       "      <td>False</td>\n",
       "      <td>0</td>\n",
       "      <td>1</td>\n",
       "      <td>9.0</td>\n",
       "      <td>90.0</td>\n",
       "      <td>2</td>\n",
       "      <td>0.384862</td>\n",
       "      <td>0.439876</td>\n",
       "    </tr>\n",
       "    <tr>\n",
       "      <th>4</th>\n",
       "      <td>amsterdam</td>\n",
       "      <td>485.552926</td>\n",
       "      <td>Private room</td>\n",
       "      <td>False</td>\n",
       "      <td>True</td>\n",
       "      <td>2.0</td>\n",
       "      <td>True</td>\n",
       "      <td>0</td>\n",
       "      <td>0</td>\n",
       "      <td>10.0</td>\n",
       "      <td>98.0</td>\n",
       "      <td>1</td>\n",
       "      <td>0.544738</td>\n",
       "      <td>0.318693</td>\n",
       "    </tr>\n",
       "  </tbody>\n",
       "</table>\n",
       "</div>"
      ],
      "text/plain": [
       "        city     realSum     room_type  room_shared  room_private  \\\n",
       "0  amsterdam  194.033698  Private room        False          True   \n",
       "1  amsterdam  344.245776  Private room        False          True   \n",
       "2  amsterdam  264.101422  Private room        False          True   \n",
       "3  amsterdam  433.529398  Private room        False          True   \n",
       "4  amsterdam  485.552926  Private room        False          True   \n",
       "\n",
       "   person_capacity  host_is_superhost  multi  biz  cleanliness_rating  \\\n",
       "0              2.0              False      1    0                10.0   \n",
       "1              4.0              False      0    0                 8.0   \n",
       "2              2.0              False      0    1                 9.0   \n",
       "3              4.0              False      0    1                 9.0   \n",
       "4              2.0               True      0    0                10.0   \n",
       "\n",
       "   guest_satisfaction_overall  bedrooms      dist  metro_dist  \n",
       "0                        93.0         1  5.022964    2.539380  \n",
       "1                        85.0         1  0.488389    0.239404  \n",
       "2                        87.0         1  5.748312    3.651621  \n",
       "3                        90.0         2  0.384862    0.439876  \n",
       "4                        98.0         1  0.544738    0.318693  "
      ]
     },
     "execution_count": 319,
     "metadata": {},
     "output_type": "execute_result"
    }
   ],
   "source": [
    "allcity_data.head()"
   ]
  },
  {
   "cell_type": "code",
   "execution_count": 320,
   "metadata": {},
   "outputs": [
    {
     "name": "stdout",
     "output_type": "stream",
     "text": [
      "<class 'pandas.core.frame.DataFrame'>\n",
      "RangeIndex: 25500 entries, 0 to 25499\n",
      "Data columns (total 14 columns):\n",
      " #   Column                      Non-Null Count  Dtype  \n",
      "---  ------                      --------------  -----  \n",
      " 0   city                        25500 non-null  object \n",
      " 1   realSum                     25500 non-null  float64\n",
      " 2   room_type                   25500 non-null  object \n",
      " 3   room_shared                 25500 non-null  bool   \n",
      " 4   room_private                25500 non-null  bool   \n",
      " 5   person_capacity             25500 non-null  float64\n",
      " 6   host_is_superhost           25500 non-null  bool   \n",
      " 7   multi                       25500 non-null  int64  \n",
      " 8   biz                         25500 non-null  int64  \n",
      " 9   cleanliness_rating          25500 non-null  float64\n",
      " 10  guest_satisfaction_overall  25500 non-null  float64\n",
      " 11  bedrooms                    25500 non-null  int64  \n",
      " 12  dist                        25500 non-null  float64\n",
      " 13  metro_dist                  25500 non-null  float64\n",
      "dtypes: bool(3), float64(6), int64(3), object(2)\n",
      "memory usage: 2.2+ MB\n"
     ]
    }
   ],
   "source": [
    "allcity_data.info()"
   ]
  },
  {
   "cell_type": "code",
   "execution_count": 321,
   "metadata": {},
   "outputs": [
    {
     "data": {
      "text/plain": [
       "city\n",
       "london       4614\n",
       "rome         4492\n",
       "paris        3130\n",
       "lisbon       2857\n",
       "athens       2653\n",
       "budapest     2074\n",
       "vienna       1738\n",
       "barcelona    1555\n",
       "berlin       1284\n",
       "amsterdam    1103\n",
       "Name: count, dtype: int64"
      ]
     },
     "execution_count": 321,
     "metadata": {},
     "output_type": "execute_result"
    }
   ],
   "source": [
    "allcity_data['city'].value_counts()"
   ]
  },
  {
   "cell_type": "code",
   "execution_count": 322,
   "metadata": {},
   "outputs": [
    {
     "data": {
      "text/plain": [
       "city                          0\n",
       "realSum                       0\n",
       "room_type                     0\n",
       "room_shared                   0\n",
       "room_private                  0\n",
       "person_capacity               0\n",
       "host_is_superhost             0\n",
       "multi                         0\n",
       "biz                           0\n",
       "cleanliness_rating            0\n",
       "guest_satisfaction_overall    0\n",
       "bedrooms                      0\n",
       "dist                          0\n",
       "metro_dist                    0\n",
       "dtype: int64"
      ]
     },
     "execution_count": 322,
     "metadata": {},
     "output_type": "execute_result"
    }
   ],
   "source": [
    "allcity_data.isna().sum()"
   ]
  },
  {
   "cell_type": "code",
   "execution_count": 323,
   "metadata": {},
   "outputs": [
    {
     "data": {
      "text/plain": [
       "np.int64(0)"
      ]
     },
     "execution_count": 323,
     "metadata": {},
     "output_type": "execute_result"
    }
   ],
   "source": [
    "allcity_data.duplicated().sum()"
   ]
  },
  {
   "cell_type": "markdown",
   "metadata": {},
   "source": [
    "### Superhost and nonsuperhost breakdown"
   ]
  },
  {
   "cell_type": "code",
   "execution_count": 324,
   "metadata": {},
   "outputs": [
    {
     "data": {
      "image/png": "[encoded data removed]",
      "text/plain": [
       "<Figure size 640x480 with 1 Axes>"
      ]
     },
     "metadata": {},
     "output_type": "display_data"
    }
   ],
   "source": [
    "super_host_df = allcity_data.query('host_is_superhost == True')\n",
    "plain_host_df = allcity_data.query('host_is_superhost == False')\n",
    "\n",
    "total_host = len(allcity_data)\n",
    "total_super_host = len(super_host_df)\n",
    "total_plain_host = len(plain_host_df)\n",
    "\n",
    "assert(total_super_host + total_plain_host == total_host)\n",
    "\n",
    "values = [total_super_host, total_plain_host]\n",
    "labels = ['Superhosts', 'Non-Superhosts']\n",
    "\n",
    "fig, ax = plt.subplots()\n",
    "ax.pie(values, labels=labels, autopct='%1.2f%%', colors=['#b8e0d4', '#ffc2d1'])\n",
    "plt.show()"
   ]
  },
  {
   "cell_type": "markdown",
   "metadata": {},
   "source": [
    "### Superhost breakdown per city"
   ]
  },
  {
   "cell_type": "code",
   "execution_count": 325,
   "metadata": {},
   "outputs": [
    {
     "data": {
      "image/png": "[encoded data removed]",
      "text/plain": [
       "<Figure size 640x480 with 1 Axes>"
      ]
     },
     "metadata": {},
     "output_type": "display_data"
    }
   ],
   "source": [
    "# get percentage of superhost in each city \n",
    "city_superhost = superhost_t['city'].value_counts(normalize=True).mul(100).round(2)\n",
    "\n",
    "# separates city and percentages\n",
    "values = city_superhost.array\n",
    "labels = city_superhost.index\n",
    "\n",
    "fig, ax = plt.subplots()\n",
    "ax.pie(values, labels=labels, autopct='%1.2f%%', colors=COLORS)\n",
    "plt.show()\n",
    "\n",
    "\n",
    "\n"
   ]
  },
  {
   "cell_type": "markdown",
   "metadata": {},
   "source": [
    "### How many are not?"
   ]
  },
  {
   "cell_type": "code",
   "execution_count": 326,
   "metadata": {},
   "outputs": [
    {
     "name": "stdout",
     "output_type": "stream",
     "text": [
      "18908\n"
     ]
    }
   ],
   "source": [
    "not_superhost=allcity_data['host_is_superhost'].value_counts()[False]\n",
    "print(not_superhost)"
   ]
  },
  {
   "cell_type": "markdown",
   "metadata": {},
   "source": [
    "### How many listings are for shared room stays?"
   ]
  },
  {
   "cell_type": "code",
   "execution_count": 327,
   "metadata": {},
   "outputs": [
    {
     "name": "stdout",
     "output_type": "stream",
     "text": [
      "180\n"
     ]
    }
   ],
   "source": [
    "is_shared=allcity_data['room_shared'].value_counts()[True]\n",
    "print(is_shared)"
   ]
  },
  {
   "cell_type": "markdown",
   "metadata": {},
   "source": [
    "### How many listings are for private room stays?"
   ]
  },
  {
   "cell_type": "code",
   "execution_count": 328,
   "metadata": {},
   "outputs": [
    {
     "name": "stdout",
     "output_type": "stream",
     "text": [
      "25320\n"
     ]
    }
   ],
   "source": [
    "not_shared=allcity_data['room_shared'].value_counts()[False]\n",
    "print(not_shared)"
   ]
  },
  {
   "cell_type": "markdown",
   "metadata": {},
   "source": [
    "### How many listings are for the entire home/apartment?"
   ]
  },
  {
   "cell_type": "code",
   "execution_count": 329,
   "metadata": {},
   "outputs": [
    {
     "name": "stdout",
     "output_type": "stream",
     "text": [
      "15994\n"
     ]
    }
   ],
   "source": [
    "room_data = allcity_data['room_type'].value_counts()['Entire home/apt']\n",
    "print(room_data)"
   ]
  },
  {
   "cell_type": "code",
   "execution_count": 330,
   "metadata": {},
   "outputs": [
    {
     "data": {
      "text/plain": [
       "room_type\n",
       "Entire home/apt    15994\n",
       "Private room        9326\n",
       "Shared room          180\n",
       "Name: count, dtype: int64"
      ]
     },
     "execution_count": 330,
     "metadata": {},
     "output_type": "execute_result"
    }
   ],
   "source": [
    "allcity_data['room_type'].value_counts()"
   ]
  },
  {
   "cell_type": "markdown",
   "metadata": {},
   "source": [
    "### What is the count of bedrooms in each listing?"
   ]
  },
  {
   "cell_type": "code",
   "execution_count": 331,
   "metadata": {},
   "outputs": [
    {
     "name": "stdout",
     "output_type": "stream",
     "text": [
      "bedrooms\n",
      "1     17808\n",
      "2      4634\n",
      "0      2208\n",
      "3       791\n",
      "4        47\n",
      "9         5\n",
      "5         4\n",
      "6         1\n",
      "10        1\n",
      "8         1\n",
      "Name: count, dtype: int64\n"
     ]
    }
   ],
   "source": [
    "room_data = allcity_data['bedrooms'].value_counts()\n",
    "print(room_data)"
   ]
  },
  {
   "cell_type": "markdown",
   "metadata": {},
   "source": [
    "## The below calculates the average rate for a two night stay in a given city"
   ]
  },
  {
   "cell_type": "code",
   "execution_count": 383,
   "metadata": {},
   "outputs": [
    {
     "name": "stdout",
     "output_type": "stream",
     "text": [
      "city\n",
      "amsterdam    545.02\n",
      "athens       155.87\n",
      "barcelona    288.39\n",
      "berlin       240.22\n",
      "budapest     168.43\n",
      "lisbon       236.35\n",
      "london       360.23\n",
      "paris        398.79\n",
      "rome         201.62\n",
      "vienna       240.38\n",
      "Name: realSum, dtype: float64\n"
     ]
    }
   ],
   "source": [
    "# calculate the average price for two nights in Amsterdam\n",
    "avg_price = allcity_data.groupby('city')['realSum'].mean().round(2)\n",
    "print(avg_price)"
   ]
  },
  {
   "cell_type": "markdown",
   "metadata": {},
   "source": [
    "## The below calculates the average rating for airbnb listings in a given city"
   ]
  },
  {
   "cell_type": "code",
   "execution_count": 390,
   "metadata": {},
   "outputs": [
    {
     "name": "stdout",
     "output_type": "stream",
     "text": [
      "city\n",
      "amsterdam    94.36\n",
      "athens       95.10\n",
      "barcelona    90.93\n",
      "berlin       94.30\n",
      "budapest     94.53\n",
      "lisbon       91.05\n",
      "london       90.32\n",
      "paris        91.85\n",
      "rome         93.20\n",
      "vienna       93.80\n",
      "Name: guest_satisfaction_overall, dtype: float64\n"
     ]
    }
   ],
   "source": [
    "avg_rating = allcity_data.groupby('city')['guest_satisfaction_overall'].mean().round(2)\n",
    "print(avg_rating)"
   ]
  },
  {
   "cell_type": "markdown",
   "metadata": {},
   "source": [
    "### The below shows the average cleanliness rating for each given city"
   ]
  },
  {
   "cell_type": "code",
   "execution_count": 389,
   "metadata": {},
   "outputs": [
    {
     "name": "stdout",
     "output_type": "stream",
     "text": [
      "city\n",
      "amsterdam    9.46\n",
      "athens       9.64\n",
      "barcelona    9.29\n",
      "berlin       9.48\n",
      "budapest     9.47\n",
      "lisbon       9.36\n",
      "london       9.15\n",
      "paris        9.25\n",
      "rome         9.52\n",
      "vienna       9.47\n",
      "Name: cleanliness_rating, dtype: float64\n"
     ]
    }
   ],
   "source": [
    "is_clean = allcity_data.groupby('city')['cleanliness_rating'].mean().round(2)\n",
    "print(is_clean)"
   ]
  }
 ],
 "metadata": {
  "kernelspec": {
   "display_name": "Python 3 (ipykernel)",
   "language": "python",
   "name": "python3"
  },
  "language_info": {
   "codemirror_mode": {
    "name": "ipython",
    "version": 3
   },
   "file_extension": ".py",
   "mimetype": "text/x-python",
   "name": "python",
   "nbconvert_exporter": "python",
   "pygments_lexer": "ipython3",
   "version": "3.12.5"
  }
 },
 "nbformat": 4,
 "nbformat_minor": 4
}
